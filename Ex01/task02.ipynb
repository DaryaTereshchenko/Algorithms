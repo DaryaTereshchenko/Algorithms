{
 "cells": [
  {
   "cell_type": "code",
   "execution_count": 7,
   "metadata": {},
   "outputs": [
    {
     "name": "stdout",
     "output_type": "stream",
     "text": [
      "Maximum subarray sum: 7\n"
     ]
    }
   ],
   "source": [
    "def max_crossing_subarray(array, low, mid, high):\n",
    "    left_sum = float('-inf')\n",
    "    lsum = 0\n",
    "\n",
    "    for i in range(mid, low-1, -1):\n",
    "        lsum += array[i]\n",
    "        if lsum > left_sum:\n",
    "            left_sum = lsum\n",
    "    \n",
    "    right_sum = float('-inf')\n",
    "    rsum = 0 \n",
    "    for k in range(mid+1, high+1):\n",
    "        rsum += array[k]\n",
    "        if rsum > right_sum:\n",
    "            right_sum = rsum\n",
    "    \n",
    "    return right_sum + left_sum\n",
    "\n",
    "def max_subarray_sum(array, low, high):\n",
    "    if low == high:\n",
    "        return array[low]\n",
    "    \n",
    "    mid = (low + high) // 2\n",
    "\n",
    "    # recurse of left and right halves \n",
    "    left_sum = max_subarray_sum(array, low, mid)\n",
    "    right_sum = max_subarray_sum(array, mid+1, high)\n",
    "    crossing_sum = max_crossing_subarray(array, low, mid, high)\n",
    "\n",
    "    return max(left_sum, right_sum, crossing_sum)\n",
    "\n",
    "\n",
    "# Example usage\n",
    "arr = [-2, -3, 4, -1, -2, 1, 5, -3]\n",
    "result = max_subarray_sum(arr, 0, len(arr) - 1)\n",
    "print(\"Maximum subarray sum:\", result)"
   ]
  }
 ],
 "metadata": {
  "kernelspec": {
   "display_name": "base",
   "language": "python",
   "name": "python3"
  },
  "language_info": {
   "codemirror_mode": {
    "name": "ipython",
    "version": 3
   },
   "file_extension": ".py",
   "mimetype": "text/x-python",
   "name": "python",
   "nbconvert_exporter": "python",
   "pygments_lexer": "ipython3",
   "version": "3.11.7"
  }
 },
 "nbformat": 4,
 "nbformat_minor": 2
}
