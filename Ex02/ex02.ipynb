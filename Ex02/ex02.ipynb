{
 "cells": [
  {
   "cell_type": "code",
   "execution_count": null,
   "metadata": {},
   "outputs": [],
   "source": [
    "def find_operator(exp, h, t):\n",
    "    count = 0\n",
    "    for i in range(h, t):\n",
    "        if exp[i] == \"*\":\n",
    "            count = exp[i-1] * exp[i+1]\n",
    "        elif exp[i] == \"+\":\n",
    "            count = exp[i-1] + exp[i+1]\n",
    "        elif exp[i] == \"-\":\n",
    "            count = exp[i-1] - exp[i+1]\n",
    "        elif exp[i] == '/':\n",
    "            count = exp[i-1] / exp[i+1]\n",
    "    return count \n",
    "\n",
    "def evaluate_expression(exp, h, t):\n",
    "    for i in range(h, t):\n",
    "        if exp[i] == \"*\" or exp[i] == \"+\" or exp[i] == \"-\" or exp[i] == \"/\":\n",
    "            return find_operator(exp, h, t)\n",
    "\n",
    "\n",
    "    "
   ]
  }
 ],
 "metadata": {
  "language_info": {
   "name": "python"
  }
 },
 "nbformat": 4,
 "nbformat_minor": 2
}
