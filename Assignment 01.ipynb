{
 "cells": [
  {
   "cell_type": "code",
   "execution_count": 8,
   "metadata": {},
   "outputs": [
    {
     "name": "stdout",
     "output_type": "stream",
     "text": [
      "Index i: 2\n",
      "Index j: 2\n",
      "Index of the array 4\n",
      "Index j: 3\n",
      "Index of the array 6\n",
      "Index j: 4\n",
      "Index of the array 8\n",
      "Index j: 5\n",
      "Index of the array 10\n",
      "Index j: 6\n",
      "Index of the array 12\n",
      "Index i: 3\n",
      "Index j: 2\n",
      "Index of the array 6\n",
      "Index j: 3\n",
      "Index of the array 9\n",
      "Index j: 4\n",
      "Index of the array 12\n",
      "Index i: 4\n",
      "Index j: 2\n",
      "Index of the array 8\n",
      "Index i: 5\n",
      "Index j: 2\n",
      "Index of the array 10\n",
      "Index i: 6\n"
     ]
    }
   ],
   "source": [
    "def prime_numbers(n):\n",
    "    array = [True for _ in range(n+1)]\n",
    "    array[0] = False\n",
    "    array[1] = False\n",
    "\n",
    "    for i in range(2, n//2):\n",
    "        print(f\"Index i: {i}\")\n",
    "        for j in range(2, n//i):\n",
    "            print(f\"Index j: {j}\")\n",
    "            print(f\"Index of the array {i * j}\")\n",
    "            array[i*j] = False\n",
    "prime_numbers(15)"
   ]
  },
  {
   "cell_type": "code",
   "execution_count": 5,
   "metadata": {},
   "outputs": [
    {
     "name": "stdout",
     "output_type": "stream",
     "text": [
      "RLE-encoded string: 3A2B4A\n"
     ]
    }
   ],
   "source": [
    "def run_length_encoding(s):\n",
    "    \"\"\"\n",
    "    Performs Run-Length Encoding (RLE) on the input string.\n",
    "\n",
    "    Args:\n",
    "        s (str): The input string to be encoded.\n",
    "\n",
    "    Returns:\n",
    "        str: The RLE-encoded string.\n",
    "    \"\"\"\n",
    "    result = \"\"\n",
    "    count = 1\n",
    "\n",
    "    for i in range(1, len(s)):\n",
    "        if s[i] == s[i - 1]:\n",
    "            count += 1\n",
    "        else:\n",
    "            result += str(count) + s[i - 1]\n",
    "            count = 1\n",
    "\n",
    "    # Add the last character and its count\n",
    "    result += str(count) + s[-1]\n",
    "\n",
    "    return result\n",
    "\n",
    "# Example usage\n",
    "input_string = \"AAABBAAAA\"\n",
    "encoded_string = run_length_encoding(input_string)\n",
    "print(f\"RLE-encoded string: {encoded_string}\")\n"
   ]
  },
  {
   "cell_type": "code",
   "execution_count": 8,
   "metadata": {},
   "outputs": [
    {
     "name": "stdout",
     "output_type": "stream",
     "text": [
      "[0, 3, 4, 5, 8, 10]\n"
     ]
    }
   ],
   "source": [
    "def InsertionSort(array):\n",
    "    for i in range(1, len(array)):\n",
    "        key = array[i]\n",
    "        j = i - 1\n",
    "        while j >= 0 and key < array[j]:\n",
    "            array[j + 1] = array[j]\n",
    "            j -= 1\n",
    "        array[j + 1] = key # Insert the key in the correct position\n",
    "    return array\n",
    "\n",
    "array= [10, 3, 5, 4, 0, 8]\n",
    "print(InsertionSort(array))"
   ]
  },
  {
   "cell_type": "code",
   "execution_count": null,
   "metadata": {},
   "outputs": [],
   "source": []
  }
 ],
 "metadata": {
  "kernelspec": {
   "display_name": "Python 3",
   "language": "python",
   "name": "python3"
  },
  "language_info": {
   "codemirror_mode": {
    "name": "ipython",
    "version": 3
   },
   "file_extension": ".py",
   "mimetype": "text/x-python",
   "name": "python",
   "nbconvert_exporter": "python",
   "pygments_lexer": "ipython3",
   "version": "3.9.12"
  }
 },
 "nbformat": 4,
 "nbformat_minor": 2
}
