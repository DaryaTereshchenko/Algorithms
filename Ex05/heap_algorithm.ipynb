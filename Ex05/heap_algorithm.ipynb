{
 "cells": [
  {
   "cell_type": "markdown",
   "metadata": {},
   "source": [
    "# Heap algorithm in Python "
   ]
  },
  {
   "cell_type": "code",
   "execution_count": 3,
   "metadata": {},
   "outputs": [
    {
     "name": "stdout",
     "output_type": "stream",
     "text": [
      "Inserted 10 into the max-heap: [10]\n",
      "Inserted 7 into the max-heap: [10, 7]\n",
      "Inserted 11 into the max-heap: [11, 7, 10]\n",
      "Inserted 5 into the max-heap: [11, 7, 10, 5]\n",
      "Inserted 4 into the max-heap: [11, 7, 10, 5, 4]\n",
      "Inserted 13 into the max-heap: [13, 7, 11, 5, 4, 10]\n"
     ]
    }
   ],
   "source": [
    "# Insertion operation in Max-Heap\n",
    "def insertion_operation(heap, value):\n",
    "\n",
    "    # insert the value in the end of the list\n",
    "    heap.append(value)\n",
    "\n",
    "    # get index of the last element \n",
    "    index = len(heap) - 1\n",
    "\n",
    "    # compare the new element with its parent and swap if necessary \n",
    "    while index > 0 and heap[(index - 1) // 2] < heap[index]:\n",
    "        heap[index], heap[(index-1) // 2] = heap[(index-1) // 2],  heap[index]\n",
    "        # move up the tree to the parent of the current element \n",
    "        index = (index-1) // 2\n",
    "    \n",
    "heap = []\n",
    "values = [10, 7, 11, 5, 4, 13]\n",
    "for value in values:\n",
    "    insertion_operation(heap, value)\n",
    "    print(f\"Inserted {value} into the max-heap: {heap}\")"
   ]
  },
  {
   "cell_type": "code",
   "execution_count": 20,
   "metadata": {},
   "outputs": [
    {
     "name": "stdout",
     "output_type": "stream",
     "text": [
      "[10, 5, 3, 4, 1]\n",
      "[10, 5, 3, 4, 1]\n"
     ]
    }
   ],
   "source": [
    "# Heapify for max heap \n",
    "\n",
    "def maxheapify(heap, index, n):\n",
    "    largest = index\n",
    "    left = 2 * index + 1\n",
    "    right = 2 * index + 2\n",
    "\n",
    "    if left < n and heap[left] > heap[largest]:\n",
    "        largest = left\n",
    "    if right < n and heap[right] > heap[largest]:\n",
    "        largest = right \n",
    "    if largest != index:\n",
    "        heap[largest], heap[index] = heap[index], heap[largest]\n",
    "        maxheapify(heap, largest, n)\n",
    "        print(heap)\n",
    "\n",
    "array = [4, 10, 3, 5, 1]\n",
    "maxheapify(array, 0, len(array))"
   ]
  },
  {
   "cell_type": "code",
   "execution_count": 21,
   "metadata": {},
   "outputs": [
    {
     "name": "stdout",
     "output_type": "stream",
     "text": [
      "Initial heap: [100, 41, 51, 13, 31, 16]\n",
      "Heap after deleting 13: [100, 41, 51, 16, 31]\n"
     ]
    }
   ],
   "source": [
    "# Deletion operation in the Max-heap\n",
    "\n",
    "def deletion_operation(heap, val):\n",
    "\n",
    "    index = -1\n",
    "\n",
    "    # find index of the element to be deleted\n",
    "    for i in range(len(heap)):\n",
    "        if heap[i] == val:\n",
    "            index = i\n",
    "            break\n",
    "\n",
    "    if index == -1:\n",
    "        return\n",
    "    \n",
    "    # delete the element from the heap\n",
    "    heap[index] = heap[-1]\n",
    "    heap.pop()\n",
    "\n",
    "    maxheapify(heap, index, len(heap))\n",
    "\n",
    "\n",
    "heap = []\n",
    "values = [13, 16, 31, 41, 51, 100]\n",
    "for value in values:\n",
    "    insertion_operation(heap, value)\n",
    "print(\"Initial heap:\", heap)\n",
    " \n",
    "deletion_operation(heap, 13)\n",
    "print(\"Heap after deleting 13:\", heap)"
   ]
  },
  {
   "cell_type": "code",
   "execution_count": null,
   "metadata": {},
   "outputs": [],
   "source": [
    "\n",
    "\n",
    "def find_median(array, length):\n",
    "    if (length // 2) == 0:\n",
    "        pass\n",
    "\n",
    "        \n"
   ]
  }
 ],
 "metadata": {
  "kernelspec": {
   "display_name": "base",
   "language": "python",
   "name": "python3"
  },
  "language_info": {
   "codemirror_mode": {
    "name": "ipython",
    "version": 3
   },
   "file_extension": ".py",
   "mimetype": "text/x-python",
   "name": "python",
   "nbconvert_exporter": "python",
   "pygments_lexer": "ipython3",
   "version": "3.11.7"
  }
 },
 "nbformat": 4,
 "nbformat_minor": 2
}
